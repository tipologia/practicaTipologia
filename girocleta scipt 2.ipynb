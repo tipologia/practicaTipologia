{
 "cells": [
  {
   "cell_type": "code",
   "execution_count": 9,
   "metadata": {
    "collapsed": true,
    "pycharm": {
     "is_executing": false
    }
   },
   "outputs": [
    {
     "name": "stderr",
     "text": [
      "c:\\users\\usuario\\appdata\\local\\programs\\python\\python38-32\\lib\\site-packages\\urllib3\\connectionpool.py:997: InsecureRequestWarning: Unverified HTTPS request is being made to host 'www.girocleta.cat'. Adding certificate verification is strongly advised. See: https://urllib3.readthedocs.io/en/latest/advanced-usage.html#ssl-warnings\n",
      "  warnings.warn(\n"
     ],
     "output_type": "stream"
    }
   ],
   "source": [
    "# get request\n",
    "from requests_html import HTMLSession\n",
    "session = HTMLSession()\n",
    "r = session.get('https://www.girocleta.cat', verify=False)\n",
    "\n",
    "r.session.close()"
   ]
  },
  {
   "cell_type": "code",
   "execution_count": 10,
   "outputs": [],
   "source": [
    "# select an element with CSS selector\n",
    "#div = r.html.find('script', first=True)\n",
    "#print(div)"
   ],
   "metadata": {
    "collapsed": false,
    "pycharm": {
     "name": "#%% test request\n",
     "is_executing": false
    }
   }
  },
  {
   "cell_type": "code",
   "execution_count": 11,
   "outputs": [],
   "source": [
    "contingut = r.content\n",
    "text = r.text\n",
    "#print(contingut)\n",
    "#print(text)\n",
    "\n",
    "match = text.splitlines()\n",
    "#print(match)"
   ],
   "metadata": {
    "collapsed": false,
    "pycharm": {
     "name": "#%% get the text of the page by lines to find the row that contains the data we need\n",
     "is_executing": false
    }
   }
  },
  {
   "cell_type": "code",
   "execution_count": 12,
   "outputs": [],
   "source": [
    "# i=0\n",
    "# for elem in match:\n",
    "#     print(i,\" -  \" ,elem)\n",
    "#     i = i+1"
   ],
   "metadata": {
    "collapsed": false,
    "pycharm": {
     "name": "#%%  select the lines of interest\n",
     "is_executing": false
    }
   }
  },
  {
   "cell_type": "code",
   "execution_count": 13,
   "outputs": [],
   "source": [
    "# each row contains the data of a bike station\n",
    "data = match[299:320]\n",
    "\n",
    "# print(data[1])\n",
    "# print(len(data))"
   ],
   "metadata": {
    "collapsed": false,
    "pycharm": {
     "name": "#%%  get a list of all the rows with the desired data\n",
     "is_executing": false
    }
   }
  },
  {
   "cell_type": "code",
   "execution_count": 14,
   "outputs": [],
   "source": [
    "from bs4 import BeautifulSoup\n",
    "\n",
    "source_code = data[0]\n",
    "soup = BeautifulSoup(source_code)\n",
    "#print(soup.prettify())\n",
    "#print(soup.find('p'))\n",
    "#print(soup.find('div'))\n",
    "\n",
    "#for tag in soup.find_all(re.compile(\"^div\")):\n",
    "#    print(tag.attrs)\n",
    "\n",
    "# verify the desired text of a station \n",
    "# for tag in soup.find_all([\"p\",\"div\"]):\n",
    "#     print(tag.text)\n",
    "\n",
    "# get a list with each data of a station\n",
    "item = [text for text in soup.stripped_strings]\n",
    "#i=0\n",
    "# for elem in item:\n",
    "#     print(\"elem\" , i, \":  \",elem)\n",
    "#     i = i+1"
   ],
   "metadata": {
    "collapsed": false,
    "pycharm": {
     "name": "#%%\n",
     "is_executing": false
    }
   }
  },
  {
   "cell_type": "code",
   "execution_count": 15,
   "outputs": [
    {
     "data": {
      "text/plain": "67"
     },
     "metadata": {},
     "output_type": "execute_result",
     "execution_count": 15
    }
   ],
   "source": [
    "import csv\n",
    "csv_file = open('girocleta_scrape.csv','w')\n",
    "csv_writer = csv.writer(csv_file)\n",
    "csv_writer.writerow(['Estació', 'Adreça', 'Bicicletes lliures', 'Aparcaments lliures', 'Coordenades'])"
   ],
   "metadata": {
    "collapsed": false,
    "pycharm": {
     "name": "#%%  create the csv file to save the results\n",
     "is_executing": false
    }
   }
  },
  {
   "cell_type": "code",
   "execution_count": 16,
   "outputs": [],
   "source": [
    "for estacio in data:\n",
    "    soup = BeautifulSoup(estacio)\n",
    "    item = [text for text in soup.stripped_strings]\n",
    "\n",
    "    # station name \n",
    "    name = item[1]\n",
    "    \n",
    "    # station address\n",
    "    address = item[2]\n",
    "    \n",
    "    # Free bikes\n",
    "    freeBikes =item[3].split(\":\")\n",
    "    freeBikes = freeBikes[1].strip()\n",
    "    #print(freeBikes)\n",
    "    \n",
    "    # Free Parkings\n",
    "    freeParks = item[4].split(\":\")\n",
    "    freeParks = freeParks[1].strip()\n",
    "    #print(freeParks)\n",
    "    \n",
    "    # station coords\n",
    "    start=item[0].find('(')\n",
    "    coord = item[0][start+1:start+19]\n",
    "    #print(coord)\n",
    "    \n",
    "    csv_writer.writerow([name, address,freeBikes,freeParks,coord])\n",
    "\n",
    "csv_file.close()"
   ],
   "metadata": {
    "collapsed": false,
    "pycharm": {
     "name": "#%%  select the text to save for each station\n",
     "is_executing": false
    }
   }
  }
 ],
 "metadata": {
  "kernelspec": {
   "display_name": "Python 3",
   "language": "python",
   "name": "python3"
  },
  "language_info": {
   "codemirror_mode": {
    "name": "ipython",
    "version": 2
   },
   "file_extension": ".py",
   "mimetype": "text/x-python",
   "name": "python",
   "nbconvert_exporter": "python",
   "pygments_lexer": "ipython2",
   "version": "2.7.6"
  },
  "pycharm": {
   "stem_cell": {
    "cell_type": "raw",
    "source": [],
    "metadata": {
     "collapsed": false
    }
   }
  }
 },
 "nbformat": 4,
 "nbformat_minor": 0
}