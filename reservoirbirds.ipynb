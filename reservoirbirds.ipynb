{
 "cells": [
  {
   "cell_type": "code",
   "execution_count": 38,
   "metadata": {},
   "outputs": [],
   "source": [
    "import requests\n",
    "from bs4 import BeautifulSoup\n",
    "url = 'https://www.reservoirbirds.com/index.asp'\n",
    "r = requests.get(url)\n",
    "html_contents = r.text\n",
    "bs = BeautifulSoup(html_contents, 'lxml')"
   ]
  },
  {
   "cell_type": "code",
   "execution_count": 49,
   "metadata": {},
   "outputs": [],
   "source": [
    "especie=[]\n",
    "tr = bs.find_all('a', {'title':'Filtra por especie'})\n",
    "for item in tr:    \n",
    "    result= item.get_text()\n",
    "    result= result.replace('\\n', '')\n",
    "    result= result.replace('  ', '')\n",
    "    result= result.replace('\\xa0', '')\n",
    "    especie.append(result)"
   ]
  },
  {
   "cell_type": "code",
   "execution_count": 51,
   "metadata": {},
   "outputs": [],
   "source": [
    "fecha=[]\n",
    "tr1 = bs.find_all('a', {'title':'Filtra por fecha'})\n",
    "for item in tr1:    \n",
    "    result= item.get_text()\n",
    "    result= result.replace('\\n', '')\n",
    "    result= result.replace('  ', '')\n",
    "    result= result.replace('\\xa0', '')\n",
    "    fecha.append(result)"
   ]
  },
  {
   "cell_type": "code",
   "execution_count": 53,
   "metadata": {},
   "outputs": [],
   "source": [
    "zona=[]\n",
    "tr2 = bs.find_all('a', {'title':'Localiza la zona en el mapa'})\n",
    "for item in tr2:    \n",
    "    result= item.get_text()\n",
    "    result= result.replace('\\n', '')\n",
    "    result= result.replace('  ', '')\n",
    "    result= result.replace('\\xa0', '')\n",
    "    zona.append(result)"
   ]
  },
  {
   "cell_type": "code",
   "execution_count": 61,
   "metadata": {},
   "outputs": [],
   "source": [
    "import pandas as pd\n",
    "df_tuples=list(zip(especie,fecha,zona))\n",
    "df=pd.DataFrame(df_tuples, columns=['Specie', 'Date', 'Location'])"
   ]
  },
  {
   "cell_type": "code",
   "execution_count": 62,
   "metadata": {},
   "outputs": [
    {
     "data": {
      "text/html": [
       "<div>\n",
       "<style scoped>\n",
       "    .dataframe tbody tr th:only-of-type {\n",
       "        vertical-align: middle;\n",
       "    }\n",
       "\n",
       "    .dataframe tbody tr th {\n",
       "        vertical-align: top;\n",
       "    }\n",
       "\n",
       "    .dataframe thead th {\n",
       "        text-align: right;\n",
       "    }\n",
       "</style>\n",
       "<table border=\"1\" class=\"dataframe\">\n",
       "  <thead>\n",
       "    <tr style=\"text-align: right;\">\n",
       "      <th></th>\n",
       "      <th>Specie</th>\n",
       "      <th>Date</th>\n",
       "      <th>Location</th>\n",
       "    </tr>\n",
       "  </thead>\n",
       "  <tbody>\n",
       "    <tr>\n",
       "      <th>0</th>\n",
       "      <td>Motacilla tschutschensis</td>\n",
       "      <td>15/03/2020</td>\n",
       "      <td>Morro Jable, Pájara, Fuerteventura (Las Palmas)</td>\n",
       "    </tr>\n",
       "    <tr>\n",
       "      <th>1</th>\n",
       "      <td>Oenanthe isabellina</td>\n",
       "      <td>15/03/2020</td>\n",
       "      <td>Pájara, Fuerteventura (Las Palmas)</td>\n",
       "    </tr>\n",
       "    <tr>\n",
       "      <th>2</th>\n",
       "      <td>Oenanthe isabellina</td>\n",
       "      <td>15/03/2020</td>\n",
       "      <td>Pájara, Fuerteventura (Las Palmas)</td>\n",
       "    </tr>\n",
       "    <tr>\n",
       "      <th>3</th>\n",
       "      <td>Larus dominicanus</td>\n",
       "      <td>15/03/2020</td>\n",
       "      <td>Pájara, Fuerteventura (Las Palmas)</td>\n",
       "    </tr>\n",
       "    <tr>\n",
       "      <th>4</th>\n",
       "      <td>Oenanthe isabellina</td>\n",
       "      <td>14/03/2020</td>\n",
       "      <td>La Oliva, Fuerteventura (Las Palmas)</td>\n",
       "    </tr>\n",
       "    <tr>\n",
       "      <th>...</th>\n",
       "      <td>...</td>\n",
       "      <td>...</td>\n",
       "      <td>...</td>\n",
       "    </tr>\n",
       "    <tr>\n",
       "      <th>70</th>\n",
       "      <td>Oenanthe deserti</td>\n",
       "      <td>08/03/2020</td>\n",
       "      <td>Abona (Santa Cruz de Tenerife)</td>\n",
       "    </tr>\n",
       "    <tr>\n",
       "      <th>71</th>\n",
       "      <td>Bucephala clangula</td>\n",
       "      <td>08/03/2020</td>\n",
       "      <td>Cospeito (Lugo)</td>\n",
       "    </tr>\n",
       "    <tr>\n",
       "      <th>72</th>\n",
       "      <td>Bucephala clangula</td>\n",
       "      <td>08/03/2020</td>\n",
       "      <td>Cospeito (Lugo)</td>\n",
       "    </tr>\n",
       "    <tr>\n",
       "      <th>73</th>\n",
       "      <td>Branta bernicla hrota</td>\n",
       "      <td>08/03/2020</td>\n",
       "      <td>Moaña (Pontevedra)</td>\n",
       "    </tr>\n",
       "    <tr>\n",
       "      <th>74</th>\n",
       "      <td>Ardea alba</td>\n",
       "      <td>08/03/2020</td>\n",
       "      <td>Cospeito (Lugo)</td>\n",
       "    </tr>\n",
       "  </tbody>\n",
       "</table>\n",
       "<p>75 rows × 3 columns</p>\n",
       "</div>"
      ],
      "text/plain": [
       "                      Specie        Date  \\\n",
       "0   Motacilla tschutschensis  15/03/2020   \n",
       "1        Oenanthe isabellina  15/03/2020   \n",
       "2        Oenanthe isabellina  15/03/2020   \n",
       "3          Larus dominicanus  15/03/2020   \n",
       "4        Oenanthe isabellina  14/03/2020   \n",
       "..                       ...         ...   \n",
       "70          Oenanthe deserti  08/03/2020   \n",
       "71        Bucephala clangula  08/03/2020   \n",
       "72        Bucephala clangula  08/03/2020   \n",
       "73     Branta bernicla hrota  08/03/2020   \n",
       "74                Ardea alba  08/03/2020   \n",
       "\n",
       "                                           Location  \n",
       "0   Morro Jable, Pájara, Fuerteventura (Las Palmas)  \n",
       "1                Pájara, Fuerteventura (Las Palmas)  \n",
       "2                Pájara, Fuerteventura (Las Palmas)  \n",
       "3                Pájara, Fuerteventura (Las Palmas)  \n",
       "4              La Oliva, Fuerteventura (Las Palmas)  \n",
       "..                                              ...  \n",
       "70                   Abona (Santa Cruz de Tenerife)  \n",
       "71                                  Cospeito (Lugo)  \n",
       "72                                  Cospeito (Lugo)  \n",
       "73                               Moaña (Pontevedra)  \n",
       "74                                  Cospeito (Lugo)  \n",
       "\n",
       "[75 rows x 3 columns]"
      ]
     },
     "execution_count": 62,
     "metadata": {},
     "output_type": "execute_result"
    }
   ],
   "source": [
    "df"
   ]
  },
  {
   "cell_type": "code",
   "execution_count": null,
   "metadata": {},
   "outputs": [],
   "source": []
  }
 ],
 "metadata": {
  "kernelspec": {
   "display_name": "Python 3",
   "language": "python",
   "name": "python3"
  },
  "language_info": {
   "codemirror_mode": {
    "name": "ipython",
    "version": 3
   },
   "file_extension": ".py",
   "mimetype": "text/x-python",
   "name": "python",
   "nbconvert_exporter": "python",
   "pygments_lexer": "ipython3",
   "version": "3.7.6"
  }
 },
 "nbformat": 4,
 "nbformat_minor": 4
}
