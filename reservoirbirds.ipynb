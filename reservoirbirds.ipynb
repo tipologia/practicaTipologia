{
 "cells": [
  {
   "cell_type": "code",
   "execution_count": 2,
   "metadata": {},
   "outputs": [],
   "source": [
    "#importem les llibreries que treballarem i creem beautiful object amb 'lxml'\n",
    "import requests\n",
    "from bs4 import BeautifulSoup\n",
    "url = 'https://www.reservoirbirds.com/index.asp'\n",
    "r = requests.get(url)\n",
    "html_contents = r.text\n",
    "bs = BeautifulSoup(html_contents, 'lxml')"
   ]
  },
  {
   "cell_type": "code",
   "execution_count": 3,
   "metadata": {},
   "outputs": [],
   "source": [
    "#creem la llista amb les dades que ens iteressa, això serà una columna. Igual amb la resta\n",
    "#Seleccionem, al ser un .asp la web, per tags\n",
    "especie=[]\n",
    "tr = bs.find_all('a', {'title':'Filtra por especie'})\n",
    "for item in tr:    \n",
    "    result= item.get_text()\n",
    "    result= result.replace('\\n', '')\n",
    "    result= result.replace('  ', '')\n",
    "    result= result.replace('\\xa0', '')\n",
    "    especie.append(result)"
   ]
  },
  {
   "cell_type": "code",
   "execution_count": 4,
   "metadata": {},
   "outputs": [],
   "source": [
    "fecha=[]\n",
    "tr1 = bs.find_all('a', {'title':'Filtra por fecha'})\n",
    "for item in tr1:    \n",
    "    result= item.get_text()\n",
    "    result= result.replace('\\n', '')\n",
    "    result= result.replace('  ', '')\n",
    "    result= result.replace('\\xa0', '')\n",
    "    fecha.append(result)"
   ]
  },
  {
   "cell_type": "code",
   "execution_count": 5,
   "metadata": {},
   "outputs": [],
   "source": [
    "zona=[]\n",
    "tr2 = bs.find_all('a', {'title':'Localiza la zona en el mapa'})\n",
    "for item in tr2:    \n",
    "    result= item.get_text()\n",
    "    result= result.replace('\\n', '')\n",
    "    result= result.replace('  ', '')\n",
    "    result= result.replace('\\xa0', '')\n",
    "    zona.append(result)"
   ]
  },
  {
   "cell_type": "code",
   "execution_count": 6,
   "metadata": {},
   "outputs": [],
   "source": [
    "#Les tres llistes les convertim en un dataframe per exportar csv\n",
    "import pandas as pd\n",
    "df_tuples=list(zip(especie,fecha,zona))\n",
    "df=pd.DataFrame(df_tuples, columns=['Specie', 'Date', 'Location'])"
   ]
  },
  {
   "cell_type": "code",
   "execution_count": 7,
   "metadata": {},
   "outputs": [
    {
     "data": {
      "text/html": [
       "<div>\n",
       "<style scoped>\n",
       "    .dataframe tbody tr th:only-of-type {\n",
       "        vertical-align: middle;\n",
       "    }\n",
       "\n",
       "    .dataframe tbody tr th {\n",
       "        vertical-align: top;\n",
       "    }\n",
       "\n",
       "    .dataframe thead th {\n",
       "        text-align: right;\n",
       "    }\n",
       "</style>\n",
       "<table border=\"1\" class=\"dataframe\">\n",
       "  <thead>\n",
       "    <tr style=\"text-align: right;\">\n",
       "      <th></th>\n",
       "      <th>Specie</th>\n",
       "      <th>Date</th>\n",
       "      <th>Location</th>\n",
       "    </tr>\n",
       "  </thead>\n",
       "  <tbody>\n",
       "    <tr>\n",
       "      <th>0</th>\n",
       "      <td>Larus philadelphia</td>\n",
       "      <td>27/03/2020</td>\n",
       "      <td>Málaga (Málaga)</td>\n",
       "    </tr>\n",
       "    <tr>\n",
       "      <th>1</th>\n",
       "      <td>Anser brachyrhynchus</td>\n",
       "      <td>26/03/2020</td>\n",
       "      <td>Llanes (Asturies)</td>\n",
       "    </tr>\n",
       "    <tr>\n",
       "      <th>2</th>\n",
       "      <td>Branta bernicla</td>\n",
       "      <td>25/03/2020</td>\n",
       "      <td>Parque Natural del Estrecho (Tarifa) (Cádiz)</td>\n",
       "    </tr>\n",
       "    <tr>\n",
       "      <th>3</th>\n",
       "      <td>Larus canus</td>\n",
       "      <td>25/03/2020</td>\n",
       "      <td>Rota (Cádiz)</td>\n",
       "    </tr>\n",
       "    <tr>\n",
       "      <th>4</th>\n",
       "      <td>Larus glaucoides</td>\n",
       "      <td>24/03/2020</td>\n",
       "      <td>Lekeitio (Vizcaya)</td>\n",
       "    </tr>\n",
       "    <tr>\n",
       "      <th>...</th>\n",
       "      <td>...</td>\n",
       "      <td>...</td>\n",
       "      <td>...</td>\n",
       "    </tr>\n",
       "    <tr>\n",
       "      <th>70</th>\n",
       "      <td>Motacilla tschutschensis</td>\n",
       "      <td>08/03/2020</td>\n",
       "      <td>Fuerteventura (Las Palmas)</td>\n",
       "    </tr>\n",
       "    <tr>\n",
       "      <th>71</th>\n",
       "      <td>Sylvia curruca blythi/halimodendri</td>\n",
       "      <td>08/03/2020</td>\n",
       "      <td>Cádiz (Cádiz)</td>\n",
       "    </tr>\n",
       "    <tr>\n",
       "      <th>72</th>\n",
       "      <td>Passer italiae</td>\n",
       "      <td>08/03/2020</td>\n",
       "      <td>Santanyí (Illes Balears)</td>\n",
       "    </tr>\n",
       "    <tr>\n",
       "      <th>73</th>\n",
       "      <td>Oenanthe isabellina</td>\n",
       "      <td>08/03/2020</td>\n",
       "      <td>Santa Cruz de Tenerife, Tenerife (Santa Cruz d...</td>\n",
       "    </tr>\n",
       "    <tr>\n",
       "      <th>74</th>\n",
       "      <td>Oenanthe isabellina</td>\n",
       "      <td>08/03/2020</td>\n",
       "      <td>La Oliva, Fuerteventura (Las Palmas)</td>\n",
       "    </tr>\n",
       "  </tbody>\n",
       "</table>\n",
       "<p>75 rows × 3 columns</p>\n",
       "</div>"
      ],
      "text/plain": [
       "                                Specie        Date  \\\n",
       "0                   Larus philadelphia  27/03/2020   \n",
       "1                 Anser brachyrhynchus  26/03/2020   \n",
       "2                      Branta bernicla  25/03/2020   \n",
       "3                          Larus canus  25/03/2020   \n",
       "4                     Larus glaucoides  24/03/2020   \n",
       "..                                 ...         ...   \n",
       "70            Motacilla tschutschensis  08/03/2020   \n",
       "71  Sylvia curruca blythi/halimodendri  08/03/2020   \n",
       "72                      Passer italiae  08/03/2020   \n",
       "73                 Oenanthe isabellina  08/03/2020   \n",
       "74                 Oenanthe isabellina  08/03/2020   \n",
       "\n",
       "                                             Location  \n",
       "0                                     Málaga (Málaga)  \n",
       "1                                   Llanes (Asturies)  \n",
       "2        Parque Natural del Estrecho (Tarifa) (Cádiz)  \n",
       "3                                        Rota (Cádiz)  \n",
       "4                                  Lekeitio (Vizcaya)  \n",
       "..                                                ...  \n",
       "70                         Fuerteventura (Las Palmas)  \n",
       "71                                      Cádiz (Cádiz)  \n",
       "72                           Santanyí (Illes Balears)  \n",
       "73  Santa Cruz de Tenerife, Tenerife (Santa Cruz d...  \n",
       "74               La Oliva, Fuerteventura (Las Palmas)  \n",
       "\n",
       "[75 rows x 3 columns]"
      ]
     },
     "execution_count": 7,
     "metadata": {},
     "output_type": "execute_result"
    }
   ],
   "source": [
    "df"
   ]
  },
  {
   "cell_type": "code",
   "execution_count": 8,
   "metadata": {},
   "outputs": [],
   "source": [
    "df.to_csv('reservoibirds.csv')"
   ]
  }
 ],
 "metadata": {
  "kernelspec": {
   "display_name": "Python 3",
   "language": "python",
   "name": "python3"
  },
  "language_info": {
   "codemirror_mode": {
    "name": "ipython",
    "version": 3
   },
   "file_extension": ".py",
   "mimetype": "text/x-python",
   "name": "python",
   "nbconvert_exporter": "python",
   "pygments_lexer": "ipython3",
   "version": "3.7.6"
  }
 },
 "nbformat": 4,
 "nbformat_minor": 4
}
